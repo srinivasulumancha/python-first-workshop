{
 "cells": [
  {
   "cell_type": "code",
   "execution_count": 1,
   "id": "1f1c1fa9",
   "metadata": {},
   "outputs": [
    {
     "name": "stdout",
     "output_type": "stream",
     "text": [
      "5\n"
     ]
    }
   ],
   "source": [
    "# length of the given string\n",
    "a=\"srinu\"\n",
    "print(len(a))"
   ]
  },
  {
   "cell_type": "code",
   "execution_count": 2,
   "id": "2ae89cd0",
   "metadata": {},
   "outputs": [
    {
     "data": {
      "text/plain": [
       "'in'"
      ]
     },
     "execution_count": 2,
     "metadata": {},
     "output_type": "execute_result"
    }
   ],
   "source": [
    "a[2:4]"
   ]
  },
  {
   "cell_type": "code",
   "execution_count": 3,
   "id": "e0448386",
   "metadata": {},
   "outputs": [
    {
     "data": {
      "text/plain": [
       "'rinu'"
      ]
     },
     "execution_count": 3,
     "metadata": {},
     "output_type": "execute_result"
    }
   ],
   "source": [
    "a[1:5]"
   ]
  },
  {
   "cell_type": "code",
   "execution_count": 4,
   "id": "abd1b558",
   "metadata": {},
   "outputs": [
    {
     "name": "stdout",
     "output_type": "stream",
     "text": [
      "33\n"
     ]
    }
   ],
   "source": [
    "# dynamic values addition\n",
    "a=11\n",
    "b=22\n",
    "c=a+b\n",
    "print(c)"
   ]
  },
  {
   "cell_type": "code",
   "execution_count": 6,
   "id": "21c064c7",
   "metadata": {},
   "outputs": [
    {
     "name": "stdout",
     "output_type": "stream",
     "text": [
      "enter a value11\n",
      "enter b value22\n",
      "addition of two numbers a&b is: 33\n"
     ]
    }
   ],
   "source": [
    "a=int(input(\"enter a value\"))\n",
    "b=int(input(\"enter b value\"))\n",
    "c=a+b\n",
    "print(\"addition of two numbers a&b is:\",c)"
   ]
  },
  {
   "cell_type": "code",
   "execution_count": 7,
   "id": "4aa06cdb",
   "metadata": {},
   "outputs": [
    {
     "name": "stdout",
     "output_type": "stream",
     "text": [
      "enter a value11\n",
      "enter b value22\n",
      "-11\n"
     ]
    }
   ],
   "source": [
    "a= int(input(\"enter a value\"))\n",
    "b= int(input(\"enter b value\"))\n",
    "c=a-b\n",
    "print(c)"
   ]
  },
  {
   "cell_type": "code",
   "execution_count": 8,
   "id": "5a520b65",
   "metadata": {},
   "outputs": [
    {
     "name": "stdout",
     "output_type": "stream",
     "text": [
      "enter a value11\n",
      "enter b value22\n",
      "242\n"
     ]
    }
   ],
   "source": [
    "a=int(input(\"enter a value\"))\n",
    "b=int(input(\"enter b value\"))\n",
    "c=a*b\n",
    "print(c)"
   ]
  },
  {
   "cell_type": "code",
   "execution_count": 9,
   "id": "27f5ffe5",
   "metadata": {},
   "outputs": [
    {
     "name": "stdout",
     "output_type": "stream",
     "text": [
      "enter a value11\n",
      "enter b value22\n",
      "0.5\n"
     ]
    }
   ],
   "source": [
    "a=int(input(\"enter a value\"))\n",
    "b=int(input(\"enter b value\"))\n",
    "c=a/b\n",
    "print(c)"
   ]
  },
  {
   "cell_type": "code",
   "execution_count": 19,
   "id": "08576bf6",
   "metadata": {},
   "outputs": [
    {
     "ename": "IndentationError",
     "evalue": "unexpected indent (Temp/ipykernel_13228/2300886281.py, line 2)",
     "output_type": "error",
     "traceback": [
      "\u001b[1;36m  File \u001b[1;32m\"C:\\Users\\exam4\\AppData\\Local\\Temp/ipykernel_13228/2300886281.py\"\u001b[1;36m, line \u001b[1;32m2\u001b[0m\n\u001b[1;33m    n=12\u001b[0m\n\u001b[1;37m    ^\u001b[0m\n\u001b[1;31mIndentationError\u001b[0m\u001b[1;31m:\u001b[0m unexpected indent\n"
     ]
    }
   ],
   "source": [
    "# how to print the multiplication table in python\n",
    "  n=12\n",
    "for i in range(1,11):\n",
    "print (n,'*',i,'=',n*i)"
   ]
  },
  {
   "cell_type": "markdown",
   "id": "31ec13d6",
   "metadata": {},
   "source": [
    "# this is a comment\n",
    "## this is a comment\n",
    "### this is a comment\n",
    "#### this is a comment\n",
    "##### this is a comment"
   ]
  },
  {
   "cell_type": "markdown",
   "id": "c115a5d4",
   "metadata": {},
   "source": [
    "# Python Operators"
   ]
  },
  {
   "cell_type": "markdown",
   "id": "2e0bde78",
   "metadata": {},
   "source": [
    "# Operators are used to perform operations on varibles and values"
   ]
  },
  {
   "cell_type": "markdown",
   "id": "c03cad7f",
   "metadata": {},
   "source": [
    "## Arthimetic operators"
   ]
  },
  {
   "cell_type": "markdown",
   "id": "3bc219b0",
   "metadata": {},
   "source": [
    "## Assignment operators"
   ]
  },
  {
   "cell_type": "markdown",
   "id": "8d386943",
   "metadata": {},
   "source": [
    "## Comparision operators"
   ]
  },
  {
   "cell_type": "markdown",
   "id": "1de57792",
   "metadata": {},
   "source": [
    "## Logical operators"
   ]
  },
  {
   "cell_type": "markdown",
   "id": "0d5e4d69",
   "metadata": {},
   "source": [
    "## bitwise operators"
   ]
  },
  {
   "cell_type": "code",
   "execution_count": 1,
   "id": "1247fd39",
   "metadata": {},
   "outputs": [
    {
     "name": "stdout",
     "output_type": "stream",
     "text": [
      "15\n"
     ]
    }
   ],
   "source": [
    "print(10+5)"
   ]
  },
  {
   "cell_type": "code",
   "execution_count": 2,
   "id": "22d353d9",
   "metadata": {},
   "outputs": [
    {
     "name": "stdout",
     "output_type": "stream",
     "text": [
      "5\n"
     ]
    }
   ],
   "source": [
    "print(10-5)"
   ]
  },
  {
   "cell_type": "code",
   "execution_count": 3,
   "id": "840660c5",
   "metadata": {},
   "outputs": [
    {
     "name": "stdout",
     "output_type": "stream",
     "text": [
      "100000\n"
     ]
    }
   ],
   "source": [
    "print(10**5)"
   ]
  },
  {
   "cell_type": "code",
   "execution_count": 4,
   "id": "eb2b37c2",
   "metadata": {},
   "outputs": [
    {
     "name": "stdout",
     "output_type": "stream",
     "text": [
      "2.0\n"
     ]
    }
   ],
   "source": [
    "print(10/5)"
   ]
  },
  {
   "cell_type": "code",
   "execution_count": null,
   "id": "61a4dd56",
   "metadata": {},
   "outputs": [],
   "source": [
    "# Assignment Operators\n"
   ]
  },
  {
   "cell_type": "code",
   "execution_count": 7,
   "id": "de87443e",
   "metadata": {},
   "outputs": [
    {
     "name": "stdout",
     "output_type": "stream",
     "text": [
      "yes\n"
     ]
    }
   ],
   "source": [
    "x=10\n",
    "y=10\n",
    "if(x==y):\n",
    "   print(\"yes\")\n",
    "else:\n",
    "    print(\"no\")"
   ]
  },
  {
   "cell_type": "code",
   "execution_count": 8,
   "id": "14494c75",
   "metadata": {},
   "outputs": [
    {
     "name": "stdout",
     "output_type": "stream",
     "text": [
      "no\n"
     ]
    }
   ],
   "source": [
    "x=10\n",
    "y=20\n",
    "if(x==y):\n",
    "    print(\"yes\")\n",
    "else:\n",
    "    print(\"no\")\n",
    "    "
   ]
  },
  {
   "cell_type": "code",
   "execution_count": 9,
   "id": "87ccebeb",
   "metadata": {},
   "outputs": [
    {
     "name": "stdout",
     "output_type": "stream",
     "text": [
      "20\n"
     ]
    }
   ],
   "source": [
    "x=4\n",
    "x*=5\n",
    "print(x)"
   ]
  },
  {
   "cell_type": "code",
   "execution_count": 10,
   "id": "77b571b6",
   "metadata": {},
   "outputs": [
    {
     "name": "stdout",
     "output_type": "stream",
     "text": [
      "0.8\n"
     ]
    }
   ],
   "source": [
    "x=4\n",
    "x/=5\n",
    "print(x)"
   ]
  },
  {
   "cell_type": "code",
   "execution_count": 11,
   "id": "3e813837",
   "metadata": {},
   "outputs": [
    {
     "name": "stdout",
     "output_type": "stream",
     "text": [
      "5\n"
     ]
    }
   ],
   "source": [
    "x=5\n",
    "x//3\n",
    "print(x)"
   ]
  },
  {
   "cell_type": "code",
   "execution_count": null,
   "id": "9087b1cb",
   "metadata": {},
   "outputs": [],
   "source": [
    "# comparision operators\n",
    "== equal to\n",
    "!= not equal to\n",
    "> greater than\n",
    "< lessthan\n",
    ">= greater than equal to\n",
    "<= lessthan equal to"
   ]
  },
  {
   "cell_type": "code",
   "execution_count": 12,
   "id": "becf254a",
   "metadata": {},
   "outputs": [
    {
     "name": "stdout",
     "output_type": "stream",
     "text": [
      "False\n"
     ]
    }
   ],
   "source": [
    "x=5\n",
    "y=3\n",
    "print(x==y)"
   ]
  },
  {
   "cell_type": "code",
   "execution_count": 13,
   "id": "5b8b574b",
   "metadata": {},
   "outputs": [
    {
     "name": "stdout",
     "output_type": "stream",
     "text": [
      "True\n"
     ]
    }
   ],
   "source": [
    "x=5\n",
    "y=3\n",
    "print(x!=y)"
   ]
  },
  {
   "cell_type": "code",
   "execution_count": 14,
   "id": "a005a407",
   "metadata": {},
   "outputs": [
    {
     "name": "stdout",
     "output_type": "stream",
     "text": [
      "True\n"
     ]
    }
   ],
   "source": [
    "x=5\n",
    "y=3\n",
    "print(x>y)"
   ]
  },
  {
   "cell_type": "code",
   "execution_count": 15,
   "id": "55bbb327",
   "metadata": {},
   "outputs": [
    {
     "name": "stdout",
     "output_type": "stream",
     "text": [
      "False\n"
     ]
    }
   ],
   "source": [
    "x=5\n",
    "y=3\n",
    "print(x<y)"
   ]
  },
  {
   "cell_type": "code",
   "execution_count": 16,
   "id": "47300d65",
   "metadata": {},
   "outputs": [
    {
     "name": "stdout",
     "output_type": "stream",
     "text": [
      "True\n"
     ]
    }
   ],
   "source": [
    "x=5\n",
    "y=3\n",
    "print(x>=y)"
   ]
  },
  {
   "cell_type": "code",
   "execution_count": 18,
   "id": "25ffc493",
   "metadata": {},
   "outputs": [
    {
     "name": "stdout",
     "output_type": "stream",
     "text": [
      "False\n"
     ]
    }
   ],
   "source": [
    "x=5\n",
    "y=3\n",
    "print(x<=y)"
   ]
  },
  {
   "cell_type": "code",
   "execution_count": null,
   "id": "75f93afc",
   "metadata": {},
   "outputs": [],
   "source": [
    "# logical operators\n",
    "     and\n",
    "     or\n",
    "     not"
   ]
  },
  {
   "cell_type": "code",
   "execution_count": 22,
   "id": "cbe48802",
   "metadata": {},
   "outputs": [
    {
     "name": "stdout",
     "output_type": "stream",
     "text": [
      "True\n"
     ]
    },
    {
     "data": {
      "text/plain": [
       "int"
      ]
     },
     "execution_count": 22,
     "metadata": {},
     "output_type": "execute_result"
    }
   ],
   "source": [
    "x=5\n",
    "print(x>4 and x<6)\n",
    "type(x)"
   ]
  },
  {
   "cell_type": "code",
   "execution_count": 24,
   "id": "2d05eb98",
   "metadata": {},
   "outputs": [
    {
     "name": "stdout",
     "output_type": "stream",
     "text": [
      "True\n"
     ]
    },
    {
     "data": {
      "text/plain": [
       "int"
      ]
     },
     "execution_count": 24,
     "metadata": {},
     "output_type": "execute_result"
    }
   ],
   "source": [
    "x=5\n",
    "print(x>4 or x<6)    \n",
    "type(x)"
   ]
  },
  {
   "cell_type": "code",
   "execution_count": 25,
   "id": "569de4ce",
   "metadata": {},
   "outputs": [
    {
     "name": "stdout",
     "output_type": "stream",
     "text": [
      "False\n"
     ]
    },
    {
     "data": {
      "text/plain": [
       "int"
      ]
     },
     "execution_count": 25,
     "metadata": {},
     "output_type": "execute_result"
    }
   ],
   "source": [
    "x=5\n",
    "print(not(x>4 and x<6))\n",
    "type(x)"
   ]
  },
  {
   "cell_type": "markdown",
   "id": "5fb023e6",
   "metadata": {},
   "source": []
  },
  {
   "cell_type": "code",
   "execution_count": null,
   "id": "fafa4f2a",
   "metadata": {},
   "outputs": [],
   "source": [
    "# bitwise operators\n",
    "and (&=)\n",
    "or(|=)\n"
   ]
  },
  {
   "cell_type": "markdown",
   "id": "2e87624a",
   "metadata": {},
   "source": [
    "# day 3"
   ]
  },
  {
   "cell_type": "markdown",
   "id": "56b6c63e",
   "metadata": {},
   "source": [
    "# python comment"
   ]
  },
  {
   "cell_type": "markdown",
   "id": "8efe2baf",
   "metadata": {},
   "source": []
  },
  {
   "cell_type": "code",
   "execution_count": null,
   "id": "7d3d11e3",
   "metadata": {},
   "outputs": [],
   "source": [
    "types of comment\n",
    "\n",
    "\n",
    "1.single line comment\n",
    "2.multi line comment\n",
    "\n",
    "\n",
    "1. Single line comments\n",
    ">with the help of singke line comments to display\n",
    "the title of the page\n",
    ">a single line comment denoted the symbol as #\n",
    "syntax:\n",
    "     # title of the page corresponding to markdown\n",
    "    formate.\n",
    " 2 Multi line comments\n",
    "a multi line comment to display the multiple lines of title to display the markdownformate only.\n",
    "\n",
    "1st syntax:\n",
    "     '''----------------------------------------------------------------------------\n",
    "     ----------------------------------------------------------------------'''\n",
    "\n",
    "2 nd syntax:\n",
    "    \"\"\"-----------------------------------------------------------------------------\n",
    "    --------------------------------------------------------------------------\"\"\""
   ]
  },
  {
   "cell_type": "markdown",
   "id": "9d51e366",
   "metadata": {},
   "source": [
    "# Examples of single line comments"
   ]
  },
  {
   "cell_type": "markdown",
   "id": "a404ba6a",
   "metadata": {},
   "source": [
    "# PYTHON DATA TYPES:"
   ]
  },
  {
   "cell_type": "markdown",
   "id": "0392ee76",
   "metadata": {},
   "source": [
    "# Integer-in()\n",
    "## >it holdes the integer values\n",
    "\n",
    "# string-str()\n",
    "\n",
    "## >it holdes the string values\n",
    "# float-float()\n",
    "\n",
    "## >it holdes the floating type of data value\n"
   ]
  },
  {
   "cell_type": "markdown",
   "id": "198bcfa7",
   "metadata": {},
   "source": [
    "# keywords python"
   ]
  },
  {
   "cell_type": "code",
   "execution_count": 7,
   "id": "ab116d4d",
   "metadata": {},
   "outputs": [
    {
     "name": "stdout",
     "output_type": "stream",
     "text": [
      "['False', 'None', 'True', '__peg_parser__', 'and', 'as', 'assert', 'async', 'await', 'break', 'class', 'continue', 'def', 'del', 'elif', 'else', 'except', 'finally', 'for', 'from', 'global', 'if', 'import', 'in', 'is', 'lambda', 'nonlocal', 'not', 'or', 'pass', 'raise', 'return', 'try', 'while', 'with', 'yield']\n"
     ]
    }
   ],
   "source": [
    "# Keywords\n",
    "import keyword\n",
    "print(keyword.kwlist)"
   ]
  },
  {
   "cell_type": "markdown",
   "id": "b7ab9eee",
   "metadata": {},
   "source": [
    "# bigest of two numbwrs\n",
    "a=30\n",
    "b=20\n",
    "c=a>b\n",
    "print(c)"
   ]
  },
  {
   "cell_type": "code",
   "execution_count": 9,
   "id": "5e8eea4b",
   "metadata": {},
   "outputs": [
    {
     "ename": "IndentationError",
     "evalue": "unexpected indent (Temp/ipykernel_2252/3048745973.py, line 3)",
     "output_type": "error",
     "traceback": [
      "\u001b[1;36m  File \u001b[1;32m\"C:\\Users\\exam4\\AppData\\Local\\Temp/ipykernel_2252/3048745973.py\"\u001b[1;36m, line \u001b[1;32m3\u001b[0m\n\u001b[1;33m    if (a>b):\u001b[0m\n\u001b[1;37m    ^\u001b[0m\n\u001b[1;31mIndentationError\u001b[0m\u001b[1;31m:\u001b[0m unexpected indent\n"
     ]
    }
   ],
   "source": [
    "a=int(input(\"enter a value\"))\n",
    "b=int(input(\"enter b value\"))\n",
    " if (a>b):\n",
    "        print(\"a is greater value=\",a)\n",
    "else:\n",
    "    print(\"b is greater value=\",b)"
   ]
  },
  {
   "cell_type": "code",
   "execution_count": 11,
   "id": "5238c81c",
   "metadata": {},
   "outputs": [
    {
     "name": "stdout",
     "output_type": "stream",
     "text": [
      "enter A value 20\n",
      "enter B value 30\n",
      "30 is greater value \n"
     ]
    }
   ],
   "source": [
    "a=int(input(\"enter A value \"))\n",
    "b=int(input(\"enter B value \"))\n",
    "if(a>b):\n",
    "    print(a,\"is greater value \")\n",
    "else:\n",
    "    print(b,\"is greater value \")\n"
   ]
  },
  {
   "cell_type": "code",
   "execution_count": 12,
   "id": "86793c95",
   "metadata": {},
   "outputs": [
    {
     "name": "stdout",
     "output_type": "stream",
     "text": [
      "30 is greater value\n"
     ]
    }
   ],
   "source": [
    "a=20\n",
    "b=30\n",
    "if(a>b):\n",
    "    print(a,\"is greater value \")\n",
    "else:\n",
    "    print(b,\"is greater value\")"
   ]
  },
  {
   "cell_type": "code",
   "execution_count": 8,
   "id": "bc1e0b2b",
   "metadata": {},
   "outputs": [
    {
     "name": "stdout",
     "output_type": "stream",
     "text": [
      "enter a number12\n",
      "odd\n"
     ]
    }
   ],
   "source": [
    "a=int(input(\"enter a number\"))\n",
    "# even-divisible by-2\n",
    "#2,4,6,8,10,12,14,16\n",
    "if(n%2==0):\n",
    "    print(\"even\")\n",
    "else:\n",
    "    print(\"odd\")"
   ]
  },
  {
   "cell_type": "code",
   "execution_count": 3,
   "id": "1390f51b",
   "metadata": {},
   "outputs": [
    {
     "data": {
      "text/plain": [
       "int"
      ]
     },
     "execution_count": 3,
     "metadata": {},
     "output_type": "execute_result"
    }
   ],
   "source": [
    "#convert int to float\n",
    "a=25\n",
    "b=float(a)\n",
    "type(b)\n",
    "type(a)"
   ]
  },
  {
   "cell_type": "code",
   "execution_count": 6,
   "id": "dbd9dfca",
   "metadata": {},
   "outputs": [
    {
     "name": "stdout",
     "output_type": "stream",
     "text": [
      "enter a number245\n",
      "given number is not neven\n"
     ]
    }
   ],
   "source": [
    "n=int(input(\"enter a number\"))\n",
    "if(n%2==0):\n",
    "    print(\"given number is even\")\n",
    "else:\n",
    "    print(\"given number is not neven\")"
   ]
  },
  {
   "cell_type": "code",
   "execution_count": 18,
   "id": "c3a37173",
   "metadata": {},
   "outputs": [
    {
     "name": "stdout",
     "output_type": "stream",
     "text": [
      "enter character o\n",
      "o it is a vowels\n"
     ]
    }
   ],
   "source": [
    "#to check given charactr is vowels or consonants\n",
    "#vowels:a,e,i,o,u.\n",
    "#consonants: rest all the alphabets\n",
    "ch=str(input(\"enter character \"))\n",
    "if(ch=='a' or ch=='e'or ch=='i' or ch=='o' or ch=='u'):\n",
    "   print(ch,\"it is a vowels\")\n",
    "else:\n",
    "   print(ch,\"it is a consonants\")\n",
    "\n",
    "   "
   ]
  },
  {
   "cell_type": "markdown",
   "id": "3445710b",
   "metadata": {},
   "source": [
    "# Day 4"
   ]
  },
  {
   "cell_type": "code",
   "execution_count": 2,
   "id": "8d43f798",
   "metadata": {},
   "outputs": [
    {
     "name": "stdout",
     "output_type": "stream",
     "text": [
      "012345678910"
     ]
    }
   ],
   "source": [
    "for i in range(11):\n",
    "    print(i,end=\"\")"
   ]
  },
  {
   "cell_type": "code",
   "execution_count": 3,
   "id": "7d34f659",
   "metadata": {},
   "outputs": [
    {
     "name": "stdout",
     "output_type": "stream",
     "text": [
      "0123456789101112131415161718192021222324252627282930313233343536373839404142434445464748495051525354555657585960616263646566676869707172737475767778798081828384858687888990919293949596979899100"
     ]
    }
   ],
   "source": [
    "# to print the odd numbers from 1 tom 100 by using for loop?\n",
    "for i in range(101):\n",
    "    print(i,end=\"\")"
   ]
  },
  {
   "cell_type": "code",
   "execution_count": 4,
   "id": "2b8c145f",
   "metadata": {},
   "outputs": [
    {
     "name": "stdout",
     "output_type": "stream",
     "text": [
      "ap"
     ]
    }
   ],
   "source": [
    "#Break statement example in python\n",
    "for i in 'apssdc':\n",
    "    if i=='s':\n",
    "        break\n",
    "    else:\n",
    "        print(i,end=\"\")\n",
    "        "
   ]
  },
  {
   "cell_type": "code",
   "execution_count": 5,
   "id": "72af7ef2",
   "metadata": {},
   "outputs": [
    {
     "name": "stdout",
     "output_type": "stream",
     "text": [
      "012345678910111213141516171819"
     ]
    }
   ],
   "source": [
    "for i in range (0,20,1):\n",
    "    if i=='19':\n",
    "        continue\n",
    "    else:\n",
    "        print(i,end=\"\")\n"
   ]
  },
  {
   "cell_type": "code",
   "execution_count": 21,
   "id": "0383e520",
   "metadata": {},
   "outputs": [
    {
     "name": "stdout",
     "output_type": "stream",
     "text": [
      "12"
     ]
    }
   ],
   "source": [
    "for i in '123456789101112131415161718192':\n",
    "    if i=='3':\n",
    "        break\n",
    "    else:\n",
    "        print(i,end=\"\")"
   ]
  },
  {
   "cell_type": "code",
   "execution_count": null,
   "id": "2bf87509",
   "metadata": {},
   "outputs": [],
   "source": [
    "#swep bteween two numbers"
   ]
  },
  {
   "cell_type": "code",
   "execution_count": null,
   "id": "a0a20fec",
   "metadata": {},
   "outputs": [],
   "source": [
    "a=5\n",
    "b=10\n",
    "\n",
    "inputs:5'10\n",
    "output-10,5\n",
    "\n",
    "temp=a\n",
    "temp=5\n",
    "a=b\n",
    "a=10\n",
    "b=5"
   ]
  },
  {
   "cell_type": "code",
   "execution_count": 22,
   "id": "b9993743",
   "metadata": {},
   "outputs": [
    {
     "name": "stdout",
     "output_type": "stream",
     "text": [
      "10 5\n"
     ]
    }
   ],
   "source": [
    "a=5\n",
    "b=10\n",
    "temp=a\n",
    "a=b\n",
    "b=temp\n",
    "print(a,b)"
   ]
  },
  {
   "cell_type": "code",
   "execution_count": 24,
   "id": "cb08c39f",
   "metadata": {},
   "outputs": [
    {
     "name": "stdout",
     "output_type": "stream",
     "text": [
      "10 5\n"
     ]
    }
   ],
   "source": [
    "temp=a\n",
    "#temp=5\n",
    "a=b\n",
    "#b=10\n",
    "b=temp\n",
    "#b=5\n",
    "print(a,b)"
   ]
  },
  {
   "cell_type": "code",
   "execution_count": 25,
   "id": "06494b80",
   "metadata": {},
   "outputs": [
    {
     "name": "stdout",
     "output_type": "stream",
     "text": [
      "10 5\n"
     ]
    }
   ],
   "source": [
    "a=5\n",
    "b=10\n",
    "a,b=(b,a)\n",
    "print(a,b)"
   ]
  },
  {
   "cell_type": "code",
   "execution_count": 30,
   "id": "57901c63",
   "metadata": {},
   "outputs": [
    {
     "name": "stdout",
     "output_type": "stream",
     "text": [
      "enter a naturel number size40\n",
      "12345678910111213141516171819202122232425262728293031323334353637383940"
     ]
    }
   ],
   "source": [
    "n= int(input(\"enter a naturel number size\"))\n",
    "for i in range(1,n+1):\n",
    "     print(i,end=\"\")\n"
   ]
  },
  {
   "cell_type": "code",
   "execution_count": 32,
   "id": "2bd0733f",
   "metadata": {},
   "outputs": [
    {
     "name": "stdout",
     "output_type": "stream",
     "text": [
      "enter anaturel number size 40\n",
      "1234567891011121314151617181920212223242526272829303132333435363738"
     ]
    }
   ],
   "source": [
    "n=int (input (\"enter anaturel number size \"))\n",
    "for i in range(1,n-1):\n",
    "    print(i,end=\"\")"
   ]
  },
  {
   "cell_type": "code",
   "execution_count": null,
   "id": "ed80af5b",
   "metadata": {},
   "outputs": [],
   "source": [
    "# programm to display calendar of the current year and munth"
   ]
  },
  {
   "cell_type": "code",
   "execution_count": 40,
   "id": "36be64f1",
   "metadata": {},
   "outputs": [
    {
     "name": "stdout",
     "output_type": "stream",
     "text": [
      "    February 23\n",
      "Mo Tu We Th Fr Sa Su\n",
      "       1  2  3  4  5\n",
      " 6  7  8  9 10 11 12\n",
      "13 14 15 16 17 18 19\n",
      "20 21 22 23 24 25 26\n",
      "27 28\n",
      "\n"
     ]
    }
   ],
   "source": [
    "import calendar\n",
    "year=23\n",
    "month=2\n",
    "print(calendar.month(year,month))"
   ]
  },
  {
   "cell_type": "code",
   "execution_count": 55,
   "id": "7237a7ee",
   "metadata": {},
   "outputs": [
    {
     "ename": "SyntaxError",
     "evalue": "invalid syntax (Temp/ipykernel_11956/266435461.py, line 1)",
     "output_type": "error",
     "traceback": [
      "\u001b[1;36m  File \u001b[1;32m\"C:\\Users\\exam4\\AppData\\Local\\Temp/ipykernel_11956/266435461.py\"\u001b[1;36m, line \u001b[1;32m1\u001b[0m\n\u001b[1;33m    def add(2,3):\u001b[0m\n\u001b[1;37m            ^\u001b[0m\n\u001b[1;31mSyntaxError\u001b[0m\u001b[1;31m:\u001b[0m invalid syntax\n"
     ]
    }
   ],
   "source": [
    "def add(2,3):\n",
    "    c=a+b\n",
    "return c"
   ]
  },
  {
   "cell_type": "code",
   "execution_count": null,
   "id": "2b909587",
   "metadata": {},
   "outputs": [],
   "source": [
    "4 types of functions:\n",
    "    1.with arguments and with return values\n",
    "    2.with arguments and with out return values\n",
    "    3.with out arguments and with return values\n",
    "    4.with out arguments and with out return values"
   ]
  },
  {
   "cell_type": "code",
   "execution_count": 1,
   "id": "83deda14",
   "metadata": {},
   "outputs": [
    {
     "ename": "SyntaxError",
     "evalue": "invalid syntax (Temp/ipykernel_2936/1927127787.py, line 3)",
     "output_type": "error",
     "traceback": [
      "\u001b[1;36m  File \u001b[1;32m\"C:\\Users\\exam4\\AppData\\Local\\Temp/ipykernel_2936/1927127787.py\"\u001b[1;36m, line \u001b[1;32m3\u001b[0m\n\u001b[1;33m    return value.\u001b[0m\n\u001b[1;37m                 ^\u001b[0m\n\u001b[1;31mSyntaxError\u001b[0m\u001b[1;31m:\u001b[0m invalid syntax\n"
     ]
    }
   ],
   "source": [
    "def function_name(argument_list):\n",
    "    statements\n",
    "return value."
   ]
  },
  {
   "cell_type": "code",
   "execution_count": 7,
   "id": "66d40ce4",
   "metadata": {},
   "outputs": [
    {
     "name": "stdout",
     "output_type": "stream",
     "text": [
      "enter n1 value10\n",
      "enter n2 value20\n"
     ]
    },
    {
     "data": {
      "text/plain": [
       "30"
      ]
     },
     "execution_count": 7,
     "metadata": {},
     "output_type": "execute_result"
    }
   ],
   "source": [
    "n1=int (input(\"enter n1 value\"))\n",
    "n2=int (input(\"enter n2 value\"))\n",
    "def add(a,b):\n",
    "    c=a+b\n",
    "    return c\n",
    "add(n1,n2)"
   ]
  },
  {
   "cell_type": "code",
   "execution_count": 8,
   "id": "03ab9284",
   "metadata": {},
   "outputs": [
    {
     "name": "stdout",
     "output_type": "stream",
     "text": [
      "2\n"
     ]
    }
   ],
   "source": [
    "def add(a,b):\n",
    "    c=a+b\n",
    "    return c\n",
    "print (add(1,1))"
   ]
  },
  {
   "cell_type": "code",
   "execution_count": 15,
   "id": "b0593ea3",
   "metadata": {},
   "outputs": [
    {
     "name": "stdout",
     "output_type": "stream",
     "text": [
      "enter n1 value40\n",
      "enter n2 value33\n",
      "7\n"
     ]
    }
   ],
   "source": [
    "n1=int (input(\"enter n1 value\"))\n",
    "n2=int (input(\"enter n2 value\"))\n",
    "def sub(a,b):\n",
    "    c=a-b\n",
    "    print(c)\n",
    "sub(n1,n2)"
   ]
  },
  {
   "cell_type": "code",
   "execution_count": 16,
   "id": "fe20e37e",
   "metadata": {},
   "outputs": [
    {
     "name": "stdout",
     "output_type": "stream",
     "text": [
      "after calling the mult  200\n"
     ]
    }
   ],
   "source": [
    "def mult():\n",
    "    a=10\n",
    "    b=20\n",
    "    mult=a*b\n",
    "    return mult\n",
    "print(\"after calling the mult \",mult())"
   ]
  },
  {
   "cell_type": "markdown",
   "id": "33b041c6",
   "metadata": {},
   "source": [
    "# Day5"
   ]
  },
  {
   "cell_type": "markdown",
   "id": "56b68cb0",
   "metadata": {},
   "source": [
    "# lists"
   ]
  },
  {
   "cell_type": "code",
   "execution_count": null,
   "id": "9c4dd666",
   "metadata": {},
   "outputs": [],
   "source": [
    "# alist is a callection of charachters variable and\n",
    "# number of variablr and  boolen values data types"
   ]
  },
  {
   "cell_type": "markdown",
   "id": "469b76a9",
   "metadata": {},
   "source": [
    "# tuple \n",
    "# it is a colletion of different types of data.\n",
    "# it is immutable (cant  chenge)\n",
    "# we can using round brackets() to write a tuple.\n",
    "# top create an empty tuple\n",
    "# tuple_name=()"
   ]
  },
  {
   "cell_type": "markdown",
   "id": "b564e9ef",
   "metadata": {},
   "source": [
    "# to create single value\n",
    "# tuple_name=(values)"
   ]
  },
  {
   "cell_type": "code",
   "execution_count": 1,
   "id": "42f32a9a",
   "metadata": {},
   "outputs": [
    {
     "name": "stdout",
     "output_type": "stream",
     "text": [
      "<class 'tuple'>\n"
     ]
    }
   ],
   "source": [
    "#create tuple \n",
    "t1=(10,20,30,40)\n",
    "t1\n",
    "print(type(t1))"
   ]
  },
  {
   "cell_type": "code",
   "execution_count": 2,
   "id": "b60fe38d",
   "metadata": {},
   "outputs": [
    {
     "name": "stdout",
     "output_type": "stream",
     "text": [
      "<class 'int'>\n",
      "<class 'tuple'>\n"
     ]
    }
   ],
   "source": [
    "# single value tuple\n",
    "t2=(10)\n",
    "print(type(t2))\n",
    "t3=(20,)\n",
    "print(type(t3))"
   ]
  },
  {
   "cell_type": "code",
   "execution_count": 3,
   "id": "4ee7da4b",
   "metadata": {},
   "outputs": [
    {
     "data": {
      "text/plain": [
       "(20,)"
      ]
     },
     "execution_count": 3,
     "metadata": {},
     "output_type": "execute_result"
    }
   ],
   "source": [
    "t3"
   ]
  },
  {
   "cell_type": "code",
   "execution_count": 4,
   "id": "3362bbaf",
   "metadata": {},
   "outputs": [
    {
     "data": {
      "text/plain": [
       "10"
      ]
     },
     "execution_count": 4,
     "metadata": {},
     "output_type": "execute_result"
    }
   ],
   "source": [
    "t2"
   ]
  },
  {
   "cell_type": "code",
   "execution_count": 5,
   "id": "e352a573",
   "metadata": {},
   "outputs": [
    {
     "name": "stdout",
     "output_type": "stream",
     "text": [
      "30\n"
     ]
    }
   ],
   "source": [
    "# how to acces the values from the tuple\n",
    "\n",
    "t1\n",
    "print(t1[2])"
   ]
  },
  {
   "cell_type": "code",
   "execution_count": 6,
   "id": "6525abc8",
   "metadata": {},
   "outputs": [
    {
     "name": "stdout",
     "output_type": "stream",
     "text": [
      "(10,)\n"
     ]
    }
   ],
   "source": [
    "print(t1[0:1])"
   ]
  },
  {
   "cell_type": "code",
   "execution_count": 7,
   "id": "0b1d5de0",
   "metadata": {},
   "outputs": [
    {
     "data": {
      "text/plain": [
       "3"
      ]
     },
     "execution_count": 7,
     "metadata": {},
     "output_type": "execute_result"
    }
   ],
   "source": [
    "t2=(10,20,10,20,30,20,20,30,10)\n",
    "# to count the number of ocurences\n",
    "t2.count(10)"
   ]
  },
  {
   "cell_type": "code",
   "execution_count": 8,
   "id": "a52487d4",
   "metadata": {},
   "outputs": [
    {
     "data": {
      "text/plain": [
       "4"
      ]
     },
     "execution_count": 8,
     "metadata": {},
     "output_type": "execute_result"
    }
   ],
   "source": [
    "t2=(10,20,10,20,30,20,20,30,10,40)\n",
    "# to count the number of ocurences\n",
    "t2.count(20)"
   ]
  },
  {
   "cell_type": "code",
   "execution_count": 9,
   "id": "221e07cd",
   "metadata": {},
   "outputs": [
    {
     "data": {
      "text/plain": [
       "2"
      ]
     },
     "execution_count": 9,
     "metadata": {},
     "output_type": "execute_result"
    }
   ],
   "source": [
    "t2=(10,20,10,20,30,20,20,30,10,40)\n",
    "# to count the number of ocurences\n",
    "t2.count(30)"
   ]
  },
  {
   "cell_type": "code",
   "execution_count": 10,
   "id": "8e29718c",
   "metadata": {},
   "outputs": [
    {
     "data": {
      "text/plain": [
       "0"
      ]
     },
     "execution_count": 10,
     "metadata": {},
     "output_type": "execute_result"
    }
   ],
   "source": [
    "#index\n",
    "t2.index(10)"
   ]
  },
  {
   "cell_type": "code",
   "execution_count": 11,
   "id": "70b3a45a",
   "metadata": {},
   "outputs": [
    {
     "data": {
      "text/plain": [
       "1"
      ]
     },
     "execution_count": 11,
     "metadata": {},
     "output_type": "execute_result"
    }
   ],
   "source": [
    "t2.index(20)"
   ]
  },
  {
   "cell_type": "code",
   "execution_count": 12,
   "id": "b7ac0a45",
   "metadata": {},
   "outputs": [
    {
     "data": {
      "text/plain": [
       "4"
      ]
     },
     "execution_count": 12,
     "metadata": {},
     "output_type": "execute_result"
    }
   ],
   "source": [
    "t2.index(30)"
   ]
  },
  {
   "cell_type": "code",
   "execution_count": 17,
   "id": "2ae7e72b",
   "metadata": {},
   "outputs": [
    {
     "name": "stdout",
     "output_type": "stream",
     "text": [
      "('apple', 'banana', 'cherry', 'apple', 'cherry')\n"
     ]
    }
   ],
   "source": [
    "tuple =(\"apple\",\"banana\",\"cherry\",\"apple\",\"cherry\")\n",
    "print(tuple)"
   ]
  },
  {
   "cell_type": "code",
   "execution_count": null,
   "id": "830b08a2",
   "metadata": {},
   "outputs": [],
   "source": [
    "# dictionary :\n",
    "-it is collection of defferent data types.\n",
    "-it si group of key and values(key:value)->item\n",
    "-it dictionary keys are unique\n",
    "-written in ({})\n",
    "-each and every item seperated with commas(,)\n",
    "-acessing dictionnarios values by using key names\n",
    "it is a mutable (changable)"
   ]
  },
  {
   "cell_type": "code",
   "execution_count": null,
   "id": "0f435715",
   "metadata": {},
   "outputs": [],
   "source": [
    "to creat empty dictionarry:\n",
    "    -dictionary_name={}"
   ]
  },
  {
   "cell_type": "code",
   "execution_count": 32,
   "id": "972bfe60",
   "metadata": {},
   "outputs": [
    {
     "name": "stdout",
     "output_type": "stream",
     "text": [
      "{'a': 10, 'b': 34, 'c': 45}\n",
      "<class 'dict'>\n"
     ]
    }
   ],
   "source": [
    "# to creat a dictionaries with values\n",
    "d1={'a':10,'b':34,'c':45}\n",
    "print(d1)\n",
    "print(type(d1))"
   ]
  },
  {
   "cell_type": "code",
   "execution_count": 2,
   "id": "1eadb58c",
   "metadata": {},
   "outputs": [
    {
     "name": "stdout",
     "output_type": "stream",
     "text": [
      "{'a': 100, 'name': 'srinu', 'branch': 'mba', 'b': 45.8}\n"
     ]
    }
   ],
   "source": [
    "# to creat a dictionaries with different data type..\n",
    "d2={'a':100,'name':'srinu','branch':'mba','b':45.8}\n",
    "print(d2)\n"
   ]
  },
  {
   "cell_type": "code",
   "execution_count": 84,
   "id": "8afc2fd0",
   "metadata": {},
   "outputs": [
    {
     "ename": "NameError",
     "evalue": "name 'd2' is not defined",
     "output_type": "error",
     "traceback": [
      "\u001b[1;31m---------------------------------------------------------------------------\u001b[0m",
      "\u001b[1;31mNameError\u001b[0m                                 Traceback (most recent call last)",
      "\u001b[1;32m~\\AppData\\Local\\Temp/ipykernel_10048/1847508737.py\u001b[0m in \u001b[0;36m<module>\u001b[1;34m\u001b[0m\n\u001b[1;32m----> 1\u001b[1;33m \u001b[0mprint\u001b[0m\u001b[1;33m(\u001b[0m\u001b[0md2\u001b[0m\u001b[1;33m[\u001b[0m\u001b[1;34m'name'\u001b[0m\u001b[1;33m]\u001b[0m\u001b[1;33m)\u001b[0m\u001b[1;33m\u001b[0m\u001b[1;33m\u001b[0m\u001b[0m\n\u001b[0m\u001b[0;32m      2\u001b[0m \u001b[0mprint\u001b[0m\u001b[1;33m(\u001b[0m\u001b[0md2\u001b[0m\u001b[1;33m[\u001b[0m\u001b[1;34m'b'\u001b[0m\u001b[1;33m]\u001b[0m\u001b[1;33m)\u001b[0m\u001b[1;33m\u001b[0m\u001b[1;33m\u001b[0m\u001b[0m\n\u001b[0;32m      3\u001b[0m \u001b[0mprint\u001b[0m\u001b[1;33m(\u001b[0m\u001b[0md2\u001b[0m\u001b[1;33m[\u001b[0m\u001b[1;34m'a'\u001b[0m\u001b[1;33m]\u001b[0m\u001b[1;33m)\u001b[0m\u001b[1;33m\u001b[0m\u001b[1;33m\u001b[0m\u001b[0m\n",
      "\u001b[1;31mNameError\u001b[0m: name 'd2' is not defined"
     ]
    }
   ],
   "source": [
    "print(d2['name'])\n",
    "print(d2['b'])\n",
    "print(d2['a'])\n"
   ]
  },
  {
   "cell_type": "code",
   "execution_count": 70,
   "id": "58897055",
   "metadata": {},
   "outputs": [
    {
     "ename": "NameError",
     "evalue": "name 'd2' is not defined",
     "output_type": "error",
     "traceback": [
      "\u001b[1;31m---------------------------------------------------------------------------\u001b[0m",
      "\u001b[1;31mNameError\u001b[0m                                 Traceback (most recent call last)",
      "\u001b[1;32m~\\AppData\\Local\\Temp/ipykernel_10048/3609773012.py\u001b[0m in \u001b[0;36m<module>\u001b[1;34m\u001b[0m\n\u001b[1;32m----> 1\u001b[1;33m \u001b[0mprint\u001b[0m\u001b[1;33m(\u001b[0m\u001b[0md2\u001b[0m\u001b[1;33m)\u001b[0m\u001b[1;33m\u001b[0m\u001b[1;33m\u001b[0m\u001b[0m\n\u001b[0m\u001b[0;32m      2\u001b[0m \u001b[0md2\u001b[0m\u001b[1;33m[\u001b[0m\u001b[1;34m'branch'\u001b[0m\u001b[1;33m]\u001b[0m\u001b[1;33m=\u001b[0m\u001b[1;34m'mca'\u001b[0m\u001b[1;33m\u001b[0m\u001b[1;33m\u001b[0m\u001b[0m\n",
      "\u001b[1;31mNameError\u001b[0m: name 'd2' is not defined"
     ]
    }
   ],
   "source": [
    "print(d2)\n",
    "d2['branch']='mca'"
   ]
  },
  {
   "cell_type": "code",
   "execution_count": 71,
   "id": "603eb9cf",
   "metadata": {},
   "outputs": [
    {
     "name": "stdout",
     "output_type": "stream",
     "text": [
      "['__class__', '__class_getitem__', '__contains__', '__delattr__', '__delitem__', '__dir__', '__doc__', '__eq__', '__format__', '__ge__', '__getattribute__', '__getitem__', '__gt__', '__hash__', '__init__', '__init_subclass__', '__ior__', '__iter__', '__le__', '__len__', '__lt__', '__ne__', '__new__', '__or__', '__reduce__', '__reduce_ex__', '__repr__', '__reversed__', '__ror__', '__setattr__', '__setitem__', '__sizeof__', '__str__', '__subclasshook__', 'clear', 'copy', 'fromkeys', 'get', 'items', 'keys', 'pop', 'popitem', 'setdefault', 'update', 'values']\n"
     ]
    }
   ],
   "source": [
    "print(dir(dict))"
   ]
  },
  {
   "cell_type": "code",
   "execution_count": 72,
   "id": "1d25d0d4",
   "metadata": {},
   "outputs": [
    {
     "ename": "NameError",
     "evalue": "name 'd2' is not defined",
     "output_type": "error",
     "traceback": [
      "\u001b[1;31m---------------------------------------------------------------------------\u001b[0m",
      "\u001b[1;31mNameError\u001b[0m                                 Traceback (most recent call last)",
      "\u001b[1;32m~\\AppData\\Local\\Temp/ipykernel_10048/1305016493.py\u001b[0m in \u001b[0;36m<module>\u001b[1;34m\u001b[0m\n\u001b[0;32m      1\u001b[0m \u001b[1;31m#keys\u001b[0m\u001b[1;33m\u001b[0m\u001b[1;33m\u001b[0m\u001b[0m\n\u001b[1;32m----> 2\u001b[1;33m \u001b[0mprint\u001b[0m\u001b[1;33m(\u001b[0m\u001b[0md2\u001b[0m\u001b[1;33m)\u001b[0m\u001b[1;33m\u001b[0m\u001b[1;33m\u001b[0m\u001b[0m\n\u001b[0m\u001b[0;32m      3\u001b[0m \u001b[0mprint\u001b[0m\u001b[1;33m(\u001b[0m\u001b[0md2\u001b[0m\u001b[1;33m.\u001b[0m\u001b[0mkeys\u001b[0m\u001b[1;33m(\u001b[0m\u001b[1;33m)\u001b[0m\u001b[1;33m)\u001b[0m\u001b[1;33m\u001b[0m\u001b[1;33m\u001b[0m\u001b[0m\n",
      "\u001b[1;31mNameError\u001b[0m: name 'd2' is not defined"
     ]
    }
   ],
   "source": [
    "#keys\n",
    "print(d2)\n",
    "print(d2.keys())"
   ]
  },
  {
   "cell_type": "code",
   "execution_count": 73,
   "id": "d5e9c0e9",
   "metadata": {},
   "outputs": [
    {
     "ename": "NameError",
     "evalue": "name 'd2' is not defined",
     "output_type": "error",
     "traceback": [
      "\u001b[1;31m---------------------------------------------------------------------------\u001b[0m",
      "\u001b[1;31mNameError\u001b[0m                                 Traceback (most recent call last)",
      "\u001b[1;32m~\\AppData\\Local\\Temp/ipykernel_10048/1799409210.py\u001b[0m in \u001b[0;36m<module>\u001b[1;34m\u001b[0m\n\u001b[0;32m      1\u001b[0m \u001b[1;31m#values\u001b[0m\u001b[1;33m\u001b[0m\u001b[1;33m\u001b[0m\u001b[0m\n\u001b[1;32m----> 2\u001b[1;33m \u001b[0mprint\u001b[0m\u001b[1;33m(\u001b[0m\u001b[0md2\u001b[0m\u001b[1;33m)\u001b[0m\u001b[1;33m\u001b[0m\u001b[1;33m\u001b[0m\u001b[0m\n\u001b[0m\u001b[0;32m      3\u001b[0m \u001b[0mprint\u001b[0m\u001b[1;33m(\u001b[0m\u001b[0md2\u001b[0m\u001b[1;33m.\u001b[0m\u001b[0mvalues\u001b[0m\u001b[1;33m(\u001b[0m\u001b[1;33m)\u001b[0m\u001b[1;33m)\u001b[0m\u001b[1;33m\u001b[0m\u001b[1;33m\u001b[0m\u001b[0m\n",
      "\u001b[1;31mNameError\u001b[0m: name 'd2' is not defined"
     ]
    }
   ],
   "source": [
    "#values\n",
    "print(d2)\n",
    "print(d2.values())"
   ]
  },
  {
   "cell_type": "code",
   "execution_count": null,
   "id": "64f9130b",
   "metadata": {},
   "outputs": [],
   "source": []
  },
  {
   "cell_type": "code",
   "execution_count": null,
   "id": "6d890f0c",
   "metadata": {},
   "outputs": [],
   "source": []
  },
  {
   "cell_type": "code",
   "execution_count": null,
   "id": "be7116f9",
   "metadata": {},
   "outputs": [],
   "source": []
  }
 ],
 "metadata": {
  "kernelspec": {
   "display_name": "Python 3 (ipykernel)",
   "language": "python",
   "name": "python3"
  },
  "language_info": {
   "codemirror_mode": {
    "name": "ipython",
    "version": 3
   },
   "file_extension": ".py",
   "mimetype": "text/x-python",
   "name": "python",
   "nbconvert_exporter": "python",
   "pygments_lexer": "ipython3",
   "version": "3.9.7"
  }
 },
 "nbformat": 4,
 "nbformat_minor": 5
}
